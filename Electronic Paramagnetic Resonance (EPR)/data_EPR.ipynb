{
 "cells": [
  {
   "cell_type": "markdown",
   "metadata": {},
   "source": [
    "# Определение g-фактора"
   ]
  },
  {
   "cell_type": "markdown",
   "metadata": {},
   "source": [
    "<font size=\"5\">\n",
    "   Найдём индукцию магнитного поля<br>\n",
    "   \n",
    "   В катушке 1 :<br><br>\n",
    "   $B_{1} = μ_{0} N_{1}J$<br>\n",
    "   $N_{1} = 1500;\\, J = 0.172A$<br>\n",
    "   $B_{1} \\approx 3.2\\,Гс$"
   ]
  },
  {
   "cell_type": "code",
   "execution_count": 4,
   "metadata": {},
   "outputs": [
    {
     "name": "stdout",
     "output_type": "stream",
     "text": [
      "0.00018386334320442336\n"
     ]
    }
   ],
   "source": [
    "import numpy as np\n",
    "p = np.pi\n",
    "c = 2.99 * 10**8\n",
    "μ = 4*p*10**(-7)\n",
    "\n",
    "\n",
    "N1 = 1500\n",
    "N2 = 4500\n",
    "D1 = 0.3 #m\n",
    "D2 = 0.23#m\n",
    "J = 0.172 #сгс\n",
    "\n",
    "B1 = μ*N1*J #Тл\n",
    "#print(B1)\n",
    "F1 = B1*D1*D1/4\n",
    "#print(F1)\n",
    "\n",
    "B = B1 * ((D1/D2)**2)*(N1/N2)\n",
    "print(B)"
   ]
  },
  {
   "cell_type": "markdown",
   "metadata": {},
   "source": [
    "<font size=\"5\">\n",
    "    $Ф_{1} = Ф_{2}$<br>\n",
    "    $B = B_{1} (\\frac{D_{1}}{D_{2}})^{2} \\frac{N_{1}}{N_{2}};\\,\\,N_{2} = 1500,\\,D_{1} = 0.23mm,\\,D_{2} = 0.3mm$<br>\n",
    "    $B_{расчётная} \\approx 1.8\\,Гс$"
   ]
  },
  {
   "cell_type": "markdown",
   "metadata": {},
   "source": [
    "<font size=\"5\">\n",
    "    Найдём эксперимениальную индукцию магнитного поля<br>\n",
    "    $V = nBSω$<br>\n",
    "    $V = 0.53mV$<br>\n",
    "   n, S - Число витков и площади пробной катушки<br>\n",
    "   n = 46; D = 14.6mm<br>\n",
    "   ω - угловая частота переменного тока (2π * 50Hz)<br><br>\n",
    "   $B \\approx 2.1\\,Гс$<br>\n",
    "   Теоретическая оценка близка к экспериментальному значению"
   ]
  },
  {
   "cell_type": "code",
   "execution_count": 3,
   "metadata": {},
   "outputs": [
    {
     "name": "stdout",
     "output_type": "stream",
     "text": [
      "0.00021906478632274193\n"
     ]
    }
   ],
   "source": [
    "V = 0.53/1000\n",
    "n = 46\n",
    "D = 14.6/1000\n",
    "p = np.pi\n",
    "S = p*D*D/4\n",
    "ω = 2*p*50\n",
    "B = V/(n*S*ω)\n",
    "print(B)"
   ]
  },
  {
   "cell_type": "markdown",
   "metadata": {},
   "source": [
    "<font size=\"5\">\n",
    "    $\\large g = \\frac{\\hbar ω_{0}}{μ_{Б}B} $<br>\n",
    "    $ω_{0} = 128\\,Mhz;\\,$\n",
    "    $μ_{Б} = 927\\, 10^{-26} J/Тл$<br>\n",
    "    $g \\approx 2$<br><br>\n",
    "    Полученный g-фактор заметно отличается от табличного значения\n",
    "    "
   ]
  },
  {
   "cell_type": "code",
   "execution_count": 18,
   "metadata": {},
   "outputs": [],
   "source": [
    "μb = 927 * 10**(-26)\n",
    "ω = 128 * 10**(6)\n",
    "h = 6.63 * 10**(-34)\n",
    "B = 2.1 * 10**(-4)\n",
    "\n",
    "g = (h*ω/(2*p))/(μb*B)\n",
    "#print(g)"
   ]
  },
  {
   "cell_type": "markdown",
   "metadata": {},
   "source": [
    "<font size=\"5\">"
   ]
  },
  {
   "cell_type": "markdown",
   "metadata": {},
   "source": [
    "<font size=\"4\">\n",
    "    $\\large \\frac{ΔL_{1/2}}{2L} = \\frac{1}{7}$<br>\n",
    "    Ширина линии ЭПР: $ΔB \\approx B/7 \\approx 0.31\\,Гс$<br><br>"
   ]
  },
  {
   "cell_type": "markdown",
   "metadata": {},
   "source": [
    "## Калибровка поля электромагнита "
   ]
  },
  {
   "cell_type": "code",
   "execution_count": 4,
   "metadata": {},
   "outputs": [],
   "source": [
    "import matplotlib.pyplot as plt\n",
    "import pandas as pd\n",
    "import numpy as np\n",
    "import seaborn as sns"
   ]
  },
  {
   "cell_type": "code",
   "execution_count": 31,
   "metadata": {},
   "outputs": [],
   "source": [
    "# V, mB\n",
    "V=pd.DataFrame({\n",
    "    'V_R':[4.07, 6.38, 10.65, 12.78, 14.29],\n",
    "    'V_перед':[0.50, 0.76, 0.94, 1.04, 1.22],\n",
    "    'V_зад':[0.48, 0.77, 0.96, 1.06, 1.20],\n",
    "    'V_сред':[0.49, 0.75,0.95, 1.05, 1.21]\n",
    "})"
   ]
  },
  {
   "cell_type": "code",
   "execution_count": 32,
   "metadata": {},
   "outputs": [
    {
     "data": {
      "text/html": [
       "<div>\n",
       "<style scoped>\n",
       "    .dataframe tbody tr th:only-of-type {\n",
       "        vertical-align: middle;\n",
       "    }\n",
       "\n",
       "    .dataframe tbody tr th {\n",
       "        vertical-align: top;\n",
       "    }\n",
       "\n",
       "    .dataframe thead th {\n",
       "        text-align: right;\n",
       "    }\n",
       "</style>\n",
       "<table border=\"1\" class=\"dataframe\">\n",
       "  <thead>\n",
       "    <tr style=\"text-align: right;\">\n",
       "      <th></th>\n",
       "      <th>V_R</th>\n",
       "      <th>V_перед</th>\n",
       "      <th>V_зад</th>\n",
       "      <th>V_сред</th>\n",
       "    </tr>\n",
       "  </thead>\n",
       "  <tbody>\n",
       "    <tr>\n",
       "      <th>0</th>\n",
       "      <td>4.07</td>\n",
       "      <td>0.50</td>\n",
       "      <td>0.48</td>\n",
       "      <td>0.49</td>\n",
       "    </tr>\n",
       "    <tr>\n",
       "      <th>1</th>\n",
       "      <td>6.38</td>\n",
       "      <td>0.76</td>\n",
       "      <td>0.77</td>\n",
       "      <td>0.75</td>\n",
       "    </tr>\n",
       "    <tr>\n",
       "      <th>2</th>\n",
       "      <td>10.65</td>\n",
       "      <td>0.94</td>\n",
       "      <td>0.96</td>\n",
       "      <td>0.95</td>\n",
       "    </tr>\n",
       "    <tr>\n",
       "      <th>3</th>\n",
       "      <td>12.78</td>\n",
       "      <td>1.04</td>\n",
       "      <td>1.06</td>\n",
       "      <td>1.05</td>\n",
       "    </tr>\n",
       "    <tr>\n",
       "      <th>4</th>\n",
       "      <td>14.29</td>\n",
       "      <td>1.22</td>\n",
       "      <td>1.20</td>\n",
       "      <td>1.21</td>\n",
       "    </tr>\n",
       "  </tbody>\n",
       "</table>\n",
       "</div>"
      ],
      "text/plain": [
       "     V_R  V_перед  V_зад  V_сред\n",
       "0   4.07     0.50   0.48    0.49\n",
       "1   6.38     0.76   0.77    0.75\n",
       "2  10.65     0.94   0.96    0.95\n",
       "3  12.78     1.04   1.06    1.05\n",
       "4  14.29     1.22   1.20    1.21"
      ]
     },
     "execution_count": 32,
     "metadata": {},
     "output_type": "execute_result"
    }
   ],
   "source": [
    "V"
   ]
  },
  {
   "cell_type": "code",
   "execution_count": 51,
   "metadata": {},
   "outputs": [],
   "source": [
    "import matplotlib.pyplot as plt\n",
    "import matplotlib.ticker as ticker\n",
    "import numpy as np\n",
    "import pandas as pd\n",
    "import scipy\n",
    "from scipy.optimize import curve_fit\n",
    "plt.rc('xtick',labelsize=20); plt.rc('ytick',labelsize=20)\n",
    "plt.rcParams['figure.figsize'] = (8,5)"
   ]
  },
  {
   "cell_type": "code",
   "execution_count": 52,
   "metadata": {},
   "outputs": [
    {
     "data": {
      "image/png": "[encoded data removed]",
      "text/plain": [
       "<Figure size 576x360 with 1 Axes>"
      ]
     },
     "metadata": {
      "needs_background": "light"
     },
     "output_type": "display_data"
    }
   ],
   "source": [
    "ax = plt.axes()\n",
    "ax.xaxis.set_minor_locator(ticker.MultipleLocator(2));\n",
    "ax.yaxis.set_minor_locator(ticker.MultipleLocator(1));\n",
    "\n",
    "V_R = np.array([4.07, 6.38, 10.65, 12.78, 14.29])\n",
    "V_сред = np.array([0.49, 0.75,0.95, 1.05, 1.21])\n",
    "\n",
    "yerror=0.01\n",
    "plt.errorbar(V_R,V_сред, yerr=yerror, ecolor='black', elinewidth=1, capsize=2)\n",
    "\n",
    "def model_f(x,a,b):\n",
    "    return a*x + b\n",
    "\n",
    "popt, pcov = curve_fit(model_f, V_R, V_сред, p0=[1.4,26.8])\n",
    "\n",
    "a_opt, b_opt = popt\n",
    "x_model = np.linspace(min(V_R), max(V_R))\n",
    "y_model = model_f(x_model, a_opt, b_opt)\n",
    "\n",
    "plt.title('Измерения калибровки', size=20)\n",
    "plt.xlabel('Напряжение на сопротивлении $V_R, мВ$',size=15)\n",
    "plt.ylabel('Напряжение на сопротивлении $V_сред, мВ$',size=15)\n",
    "\n",
    "\n",
    "plt.plot(x_model,y_model, color='grey')\n",
    "plt.grid()"
   ]
  }
 ],
 "metadata": {
  "hide_input": false,
  "kernelspec": {
   "display_name": "Python 3 (ipykernel)",
   "language": "python",
   "name": "python3"
  },
  "language_info": {
   "codemirror_mode": {
    "name": "ipython",
    "version": 3
   },
   "file_extension": ".py",
   "mimetype": "text/x-python",
   "name": "python",
   "nbconvert_exporter": "python",
   "pygments_lexer": "ipython3",
   "version": "3.9.12"
  }
 },
 "nbformat": 4,
 "nbformat_minor": 4
}
